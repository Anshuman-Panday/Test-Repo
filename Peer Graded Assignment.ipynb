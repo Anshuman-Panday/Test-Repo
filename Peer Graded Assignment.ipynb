{
 "cells": [
  {
   "cell_type": "markdown",
   "id": "0ffd0416-1709-4318-b06f-b2e61535ef63",
   "metadata": {
    "tags": []
   },
   "source": [
    "# My Jupyter Notebook"
   ]
  },
  {
   "cell_type": "markdown",
   "id": "d5bfb681-d910-4d1d-bf0b-8257195b0416",
   "metadata": {},
   "source": [
    "**Anshuman Panday**  \n",
    "Data Scientist"
   ]
  },
  {
   "cell_type": "markdown",
   "id": "46ad143f-888a-421d-b815-8af51c8d2a36",
   "metadata": {},
   "source": [
    "*I am interested in Data Science because I'm good at analysing data and I love to work with Big Data.  \n",
    "It's a interesting career option too because it pays really well.*"
   ]
  },
  {
   "cell_type": "markdown",
   "id": "3e20339a-8f2c-4dc5-8fab-5268a4c757b2",
   "metadata": {},
   "source": [
    "### My Code is to ask user to input two numbers then sums it."
   ]
  },
  {
   "cell_type": "code",
   "execution_count": 13,
   "id": "fc4998e4-a877-48d0-8489-71665066a8b0",
   "metadata": {},
   "outputs": [
    {
     "name": "stdin",
     "output_type": "stream",
     "text": [
      "Enter first number:  58\n",
      "Enter second number:  11\n"
     ]
    },
    {
     "name": "stdout",
     "output_type": "stream",
     "text": [
      "The sum of 58 and 11 is 69\n"
     ]
    }
   ],
   "source": [
    "# Store input numbers\n",
    "num1 = input('Enter first number: ')\n",
    "num2 = input('Enter second number: ')\n",
    "\n",
    "# Add two numbers\n",
    "sum=int(num1)+int(num2)\n",
    "\n",
    "# Display the sum\n",
    "print('The sum of {0} and {1} is {2}'.format(num1, num2, sum))"
   ]
  },
  {
   "cell_type": "markdown",
   "id": "b42da3e7-5410-444c-a7f2-9c9e2046c193",
   "metadata": {},
   "source": [
    "''Blockquotes'' are very handy in email to emulate reply text. ~~This line is part of the same quote.~~\n",
    "> This is a very long line that will still be quoted properly when it wraps. Oh boy let's keep writing to make sure this is long enough to actually wrap for everyone. Oh, you can put Markdown into a blockquote.\n",
    "\n",
    "* Unordered list can use asterisks\n",
    "- Or minuses\n",
    "+ Or pluses"
   ]
  }
 ],
 "metadata": {
  "kernelspec": {
   "display_name": "Python",
   "language": "python",
   "name": "conda-env-python-py"
  },
  "language_info": {
   "codemirror_mode": {
    "name": "ipython",
    "version": 3
   },
   "file_extension": ".py",
   "mimetype": "text/x-python",
   "name": "python",
   "nbconvert_exporter": "python",
   "pygments_lexer": "ipython3",
   "version": "3.7.12"
  }
 },
 "nbformat": 4,
 "nbformat_minor": 5
}
